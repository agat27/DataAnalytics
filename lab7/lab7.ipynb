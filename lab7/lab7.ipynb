{
 "cells": [
  {
   "cell_type": "markdown",
   "metadata": {},
   "source": [
    "Lab 7 - Model comparison\n",
    "Agata Swatowska"
   ]
  },
  {
   "cell_type": "code",
   "execution_count": 1,
   "metadata": {},
   "outputs": [],
   "source": [
    "from cmdstanpy import CmdStanModel\n",
    "\n",
    "import arviz as az\n",
    "import numpy as np\n",
    "import scipy.stats as stats\n",
    "\n",
    "import pandas as pd\n",
    "\n",
    "import matplotlib.pyplot as plt\n",
    "import matplotlib as mpl\n",
    "import os"
   ]
  },
  {
   "cell_type": "code",
   "execution_count": 4,
   "metadata": {},
   "outputs": [],
   "source": [
    "F = 5\n",
    "L = 9\n",
    "N = (F+L)*100"
   ]
  },
  {
   "cell_type": "markdown",
   "metadata": {},
   "source": [
    "Zad 1.\n",
    "1. Compile code_1.stan and code_2.stan\n",
    "2. Generate data for rest of excercises."
   ]
  },
  {
   "cell_type": "code",
   "execution_count": 2,
   "metadata": {},
   "outputs": [
    {
     "name": "stderr",
     "output_type": "stream",
     "text": [
      "INFO:cmdstanpy:compiling stan file C:\\DataAnalytics_VSC\\DataAnalytics\\lab7\\code_1.stan to exe file C:\\DataAnalytics_VSC\\DataAnalytics\\lab7\\code_1.exe\n",
      "INFO:cmdstanpy:compiled model executable: C:\\DataAnalytics_VSC\\DataAnalytics\\lab7\\code_1.exe\n"
     ]
    }
   ],
   "source": [
    "model_1 = CmdStanModel(stan_file='code_1.stan')\n"
   ]
  },
  {
   "cell_type": "code",
   "execution_count": 3,
   "metadata": {},
   "outputs": [
    {
     "name": "stderr",
     "output_type": "stream",
     "text": [
      "INFO:cmdstanpy:compiling stan file C:\\DataAnalytics_VSC\\DataAnalytics\\lab7\\code_2.stan to exe file C:\\DataAnalytics_VSC\\DataAnalytics\\lab7\\code_2.exe\n",
      "INFO:cmdstanpy:compiled model executable: C:\\DataAnalytics_VSC\\DataAnalytics\\lab7\\code_2.exe\n"
     ]
    }
   ],
   "source": [
    "model_2 = CmdStanModel(stan_file='code_2.stan')"
   ]
  },
  {
   "cell_type": "code",
   "execution_count": 19,
   "metadata": {},
   "outputs": [
    {
     "name": "stderr",
     "output_type": "stream",
     "text": [
      "INFO:cmdstanpy:CmdStan start processing\n",
      "chain 1 |\u001b[34m██████████\u001b[0m| 00:02 Sampling completed                      "
     ]
    },
    {
     "name": "stdout",
     "output_type": "stream",
     "text": [
      "                                                                                "
     ]
    },
    {
     "name": "stderr",
     "output_type": "stream",
     "text": [
      "\n",
      "INFO:cmdstanpy:CmdStan done processing.\n"
     ]
    },
    {
     "name": "stdout",
     "output_type": "stream",
     "text": [
      "\n"
     ]
    }
   ],
   "source": [
    "sim_1=model_1.sample(data={'N':N},  \n",
    "                    chains=1, \n",
    "                    fixed_param=True,\n",
    "                    iter_warmup=0)"
   ]
  },
  {
   "cell_type": "code",
   "execution_count": 9,
   "metadata": {},
   "outputs": [
    {
     "name": "stderr",
     "output_type": "stream",
     "text": [
      "INFO:cmdstanpy:CmdStan start processing\n",
      "chain 1 |\u001b[34m██████████\u001b[0m| 00:09 Sampling completed                      "
     ]
    },
    {
     "name": "stdout",
     "output_type": "stream",
     "text": [
      "                                                                                "
     ]
    },
    {
     "name": "stderr",
     "output_type": "stream",
     "text": [
      "\n",
      "INFO:cmdstanpy:CmdStan done processing.\n"
     ]
    },
    {
     "name": "stdout",
     "output_type": "stream",
     "text": [
      "\n"
     ]
    }
   ],
   "source": [
    "sim_2=model_2.sample(data={'N':N}, \n",
    "                    chains=1, \n",
    "                    fixed_param=True,\n",
    "                    iter_warmup=0)"
   ]
  },
  {
   "cell_type": "markdown",
   "metadata": {},
   "source": [
    "Zad 2.\n",
    "1. Compile both models (code_3, code_4)\n",
    "2. Fit both models\n",
    "3. Using az.compare and az.plot_compare analyze both models using loo and waic criteria."
   ]
  },
  {
   "cell_type": "code",
   "execution_count": 11,
   "metadata": {},
   "outputs": [
    {
     "name": "stderr",
     "output_type": "stream",
     "text": [
      "INFO:cmdstanpy:found newer exe file, not recompiling\n",
      "INFO:cmdstanpy:compiling stan file C:\\DataAnalytics_VSC\\DataAnalytics\\lab7\\code_4.stan to exe file C:\\DataAnalytics_VSC\\DataAnalytics\\lab7\\code_4.exe\n",
      "INFO:cmdstanpy:compiled model executable: C:\\DataAnalytics_VSC\\DataAnalytics\\lab7\\code_4.exe\n"
     ]
    }
   ],
   "source": [
    "model_3 = CmdStanModel(stan_file='code_3.stan')\n",
    "model_4 = CmdStanModel(stan_file='code_4.stan')\n"
   ]
  },
  {
   "cell_type": "code",
   "execution_count": 22,
   "metadata": {},
   "outputs": [
    {
     "name": "stderr",
     "output_type": "stream",
     "text": [
      "INFO:cmdstanpy:CmdStan start processing\n",
      "chain 1 |\u001b[34m██████████\u001b[0m| 00:04 Sampling completed                      "
     ]
    },
    {
     "name": "stdout",
     "output_type": "stream",
     "text": [
      "                                                                                "
     ]
    },
    {
     "name": "stderr",
     "output_type": "stream",
     "text": [
      "\n",
      "INFO:cmdstanpy:CmdStan done processing.\n"
     ]
    },
    {
     "name": "stdout",
     "output_type": "stream",
     "text": [
      "\n"
     ]
    }
   ],
   "source": [
    "y_1 = sim_1.stan_variable('y')[0]\n",
    "sim_3=model_3.sample(data={'N':N, 'y':y_1},  \n",
    "                    chains=1, \n",
    "                    fixed_param=True,\n",
    "                    iter_warmup=0)"
   ]
  },
  {
   "cell_type": "code",
   "execution_count": 23,
   "metadata": {},
   "outputs": [
    {
     "name": "stderr",
     "output_type": "stream",
     "text": [
      "INFO:cmdstanpy:CmdStan start processing\n",
      "chain 1 |\u001b[34m██████████\u001b[0m| 00:04 Sampling completed                      "
     ]
    },
    {
     "name": "stdout",
     "output_type": "stream",
     "text": [
      "                                                                                "
     ]
    },
    {
     "name": "stderr",
     "output_type": "stream",
     "text": [
      "\n",
      "INFO:cmdstanpy:CmdStan done processing.\n"
     ]
    },
    {
     "name": "stdout",
     "output_type": "stream",
     "text": [
      "\n"
     ]
    }
   ],
   "source": [
    "sim_4=model_4.sample(data={'N':N, 'y':y_1},  \n",
    "                    chains=1, \n",
    "                    fixed_param=True,\n",
    "                    iter_warmup=0)"
   ]
  },
  {
   "cell_type": "code",
   "execution_count": 37,
   "metadata": {},
   "outputs": [],
   "source": [
    "def compare_az(comp_dict, crit='loo'):\n",
    "    comp = az.compare(comp_dict, ic=crit)\n",
    "    print(comp)\n",
    "    az.plot_compare(comp)"
   ]
  },
  {
   "cell_type": "code",
   "execution_count": 36,
   "metadata": {},
   "outputs": [],
   "source": [
    "# Using az.compare and az.plot_compare analyze \n",
    "# both models using loo and waic criteria.\n",
    "compare_dict = {'model3': sim_3, 'model4': sim_4}\n"
   ]
  },
  {
   "cell_type": "code",
   "execution_count": 38,
   "metadata": {},
   "outputs": [
    {
     "name": "stderr",
     "output_type": "stream",
     "text": [
      "E:\\ProgramData\\Anaconda3\\envs\\env_da\\lib\\site-packages\\arviz\\stats\\stats.py:694: UserWarning: Estimated shape parameter of Pareto distribution is greater than 0.7 for one or more samples. You should consider using a more robust model, this is because importance sampling is less likely to work well if the marginal posterior and LOO posterior are very different. This is more likely to happen with a non-robust model and highly influential observations.\n",
      "  warnings.warn(\n",
      "E:\\ProgramData\\Anaconda3\\envs\\env_da\\lib\\site-packages\\arviz\\stats\\stats.py:694: UserWarning: Estimated shape parameter of Pareto distribution is greater than 0.7 for one or more samples. You should consider using a more robust model, this is because importance sampling is less likely to work well if the marginal posterior and LOO posterior are very different. This is more likely to happen with a non-robust model and highly influential observations.\n",
      "  warnings.warn(\n"
     ]
    },
    {
     "name": "stdout",
     "output_type": "stream",
     "text": [
      "        rank         loo  p_loo       d_loo    weight          se        dse  \\\n",
      "model3     0 -2887.31104    0.0     0.00000  0.999511  312.392265    0.00000   \n",
      "model4     1 -4019.42442    0.0  1132.11338  0.000489    5.708461  306.81052   \n",
      "\n",
      "        warning loo_scale  \n",
      "model3     True       log  \n",
      "model4     True       log  \n"
     ]
    },
    {
     "data": {
      "image/png": "[encoded data removed]",
      "text/plain": [
       "<Figure size 432x144 with 1 Axes>"
      ]
     },
     "metadata": {
      "needs_background": "light"
     },
     "output_type": "display_data"
    }
   ],
   "source": [
    "compare_az(comp_dict=compare_dict)"
   ]
  },
  {
   "cell_type": "code",
   "execution_count": 39,
   "metadata": {},
   "outputs": [
    {
     "name": "stdout",
     "output_type": "stream",
     "text": [
      "        rank        waic        p_waic      d_waic    weight          se  \\\n",
      "model3     0 -2887.31104  4.620768e-23     0.00000  0.999511  312.392265   \n",
      "model4     1 -4019.42442  2.087356e-24  1132.11338  0.000489    5.708461   \n",
      "\n",
      "              dse  warning waic_scale  \n",
      "model3    0.00000    False        log  \n",
      "model4  306.81052    False        log  \n"
     ]
    },
    {
     "data": {
      "image/png": "[encoded data removed]",
      "text/plain": [
       "<Figure size 432x144 with 1 Axes>"
      ]
     },
     "metadata": {
      "needs_background": "light"
     },
     "output_type": "display_data"
    }
   ],
   "source": [
    "compare_az(compare_dict, crit='waic')\n"
   ]
  },
  {
   "cell_type": "markdown",
   "metadata": {},
   "source": [
    "Zad 3.\n",
    "1. Compile model\n",
    "2. Compare models for 1, 2 and 3 predictors as in previous excercise"
   ]
  },
  {
   "cell_type": "code",
   "execution_count": 33,
   "metadata": {},
   "outputs": [
    {
     "name": "stderr",
     "output_type": "stream",
     "text": [
      "INFO:cmdstanpy:compiling stan file C:\\DataAnalytics_VSC\\DataAnalytics\\lab7\\code_5.stan to exe file C:\\DataAnalytics_VSC\\DataAnalytics\\lab7\\code_5.exe\n",
      "INFO:cmdstanpy:compiled model executable: C:\\DataAnalytics_VSC\\DataAnalytics\\lab7\\code_5.exe\n"
     ]
    }
   ],
   "source": [
    "model_5 = CmdStanModel(stan_file='code_5.stan')"
   ]
  },
  {
   "cell_type": "code",
   "execution_count": 46,
   "metadata": {},
   "outputs": [
    {
     "name": "stderr",
     "output_type": "stream",
     "text": [
      "INFO:cmdstanpy:CmdStan start processing\n",
      "chain 1 |\u001b[34m██████████\u001b[0m| 00:06 Sampling completed                      "
     ]
    },
    {
     "name": "stdout",
     "output_type": "stream",
     "text": [
      "                                                                                "
     ]
    },
    {
     "name": "stderr",
     "output_type": "stream",
     "text": [
      "\n",
      "INFO:cmdstanpy:CmdStan done processing.\n"
     ]
    },
    {
     "name": "stdout",
     "output_type": "stream",
     "text": [
      "\n"
     ]
    }
   ],
   "source": [
    "y_2 = sim_2.stan_variable('y')[0]\n",
    "X_2 = sim_2.stan_variable('X')\n",
    "sim_51=model_5.sample(data={'N':N, 'K': 1,'y': y_2, 'X': X_2[0,:,0:1]},  \n",
    "                    chains=1, \n",
    "                    fixed_param=True,\n",
    "                    iter_warmup=0)"
   ]
  },
  {
   "cell_type": "code",
   "execution_count": 47,
   "metadata": {},
   "outputs": [
    {
     "name": "stderr",
     "output_type": "stream",
     "text": [
      "INFO:cmdstanpy:CmdStan start processing\n",
      "chain 1 |\u001b[34m██████████\u001b[0m| 00:06 Sampling completed                      "
     ]
    },
    {
     "name": "stdout",
     "output_type": "stream",
     "text": [
      "                                                                                "
     ]
    },
    {
     "name": "stderr",
     "output_type": "stream",
     "text": [
      "\n",
      "INFO:cmdstanpy:CmdStan done processing.\n"
     ]
    },
    {
     "name": "stdout",
     "output_type": "stream",
     "text": [
      "\n"
     ]
    }
   ],
   "source": [
    "sim_52=model_5.sample(data={'N':N, 'K': 2,'y': y_2, 'X': X_2[0,:,0:2]},  \n",
    "                    chains=1, \n",
    "                    fixed_param=True,\n",
    "                    iter_warmup=0)"
   ]
  },
  {
   "cell_type": "code",
   "execution_count": 48,
   "metadata": {},
   "outputs": [
    {
     "name": "stderr",
     "output_type": "stream",
     "text": [
      "INFO:cmdstanpy:CmdStan start processing\n",
      "chain 1 |\u001b[34m██████████\u001b[0m| 00:06 Sampling completed                      "
     ]
    },
    {
     "name": "stdout",
     "output_type": "stream",
     "text": [
      "                                                                                "
     ]
    },
    {
     "name": "stderr",
     "output_type": "stream",
     "text": [
      "\n",
      "INFO:cmdstanpy:CmdStan done processing.\n"
     ]
    },
    {
     "name": "stdout",
     "output_type": "stream",
     "text": [
      "\n"
     ]
    }
   ],
   "source": [
    "sim_53=model_5.sample(data={'N':N, 'K': 3,'y': y_2, 'X': X_2[0,:,0:3]},  \n",
    "                    chains=1, \n",
    "                    fixed_param=True,\n",
    "                    iter_warmup=0)"
   ]
  },
  {
   "cell_type": "code",
   "execution_count": 49,
   "metadata": {},
   "outputs": [
    {
     "name": "stderr",
     "output_type": "stream",
     "text": [
      "E:\\ProgramData\\Anaconda3\\envs\\env_da\\lib\\site-packages\\arviz\\stats\\stats.py:694: UserWarning: Estimated shape parameter of Pareto distribution is greater than 0.7 for one or more samples. You should consider using a more robust model, this is because importance sampling is less likely to work well if the marginal posterior and LOO posterior are very different. This is more likely to happen with a non-robust model and highly influential observations.\n",
      "  warnings.warn(\n",
      "E:\\ProgramData\\Anaconda3\\envs\\env_da\\lib\\site-packages\\arviz\\stats\\stats.py:694: UserWarning: Estimated shape parameter of Pareto distribution is greater than 0.7 for one or more samples. You should consider using a more robust model, this is because importance sampling is less likely to work well if the marginal posterior and LOO posterior are very different. This is more likely to happen with a non-robust model and highly influential observations.\n",
      "  warnings.warn(\n",
      "E:\\ProgramData\\Anaconda3\\envs\\env_da\\lib\\site-packages\\arviz\\stats\\stats.py:694: UserWarning: Estimated shape parameter of Pareto distribution is greater than 0.7 for one or more samples. You should consider using a more robust model, this is because importance sampling is less likely to work well if the marginal posterior and LOO posterior are very different. This is more likely to happen with a non-robust model and highly influential observations.\n",
      "  warnings.warn(\n"
     ]
    },
    {
     "name": "stdout",
     "output_type": "stream",
     "text": [
      "        rank            loo  p_loo          d_loo    weight           se  \\\n",
      "pred_3     0   -3736.955600    0.0       0.000000  0.688362    31.405361   \n",
      "pred_2     1   -9341.897557    0.0    5604.941957  0.311638   360.238713   \n",
      "pred_1     2 -113629.685698    0.0  109892.730098  0.000000  4280.220145   \n",
      "\n",
      "                dse  warning loo_scale  \n",
      "pred_3     0.000000     True       log  \n",
      "pred_2   334.061645     True       log  \n",
      "pred_1  4249.172409     True       log  \n"
     ]
    },
    {
     "data": {
      "image/png": "[encoded data removed]",
      "text/plain": [
       "<Figure size 432x216 with 1 Axes>"
      ]
     },
     "metadata": {
      "needs_background": "light"
     },
     "output_type": "display_data"
    }
   ],
   "source": [
    "compar_dict_pre = {'pred_1': sim_51, 'pred_2': sim_52, 'pred_3': sim_53}\n",
    "compare_az(compar_dict_pre)"
   ]
  },
  {
   "cell_type": "code",
   "execution_count": 50,
   "metadata": {},
   "outputs": [
    {
     "name": "stdout",
     "output_type": "stream",
     "text": [
      "        rank           waic        p_waic         d_waic    weight  \\\n",
      "pred_3     0   -3736.955600  1.945683e-24       0.000000  0.688362   \n",
      "pred_2     1   -9341.897557  3.450453e-23    5604.941957  0.311638   \n",
      "pred_1     2 -113629.685698  4.663786e-21  109892.730098  0.000000   \n",
      "\n",
      "                 se          dse  warning waic_scale  \n",
      "pred_3    31.405361     0.000000    False        log  \n",
      "pred_2   360.238713   334.061645    False        log  \n",
      "pred_1  4280.220145  4249.172409    False        log  \n"
     ]
    },
    {
     "data": {
      "image/png": "[encoded data removed]",
      "text/plain": [
       "<Figure size 432x216 with 1 Axes>"
      ]
     },
     "metadata": {
      "needs_background": "light"
     },
     "output_type": "display_data"
    }
   ],
   "source": [
    "compare_az(compar_dict_pre, crit='waic')"
   ]
  }
 ],
 "metadata": {
  "interpreter": {
   "hash": "2ef4e4d5145665a8ef1bc037cef629084ad373f259ee1c3270cd8bc4721965c9"
  },
  "kernelspec": {
   "display_name": "Python 3.8.5 ('env_da')",
   "language": "python",
   "name": "python3"
  },
  "language_info": {
   "codemirror_mode": {
    "name": "ipython",
    "version": 3
   },
   "file_extension": ".py",
   "mimetype": "text/x-python",
   "name": "python",
   "nbconvert_exporter": "python",
   "pygments_lexer": "ipython3",
   "version": "3.8.5"
  },
  "orig_nbformat": 4
 },
 "nbformat": 4,
 "nbformat_minor": 2
}
